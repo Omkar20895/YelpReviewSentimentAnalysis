{
 "cells": [
  {
   "cell_type": "markdown",
   "metadata": {},
   "source": [
    "# YELP REVIEWS ANALYSIS"
   ]
  },
  {
   "cell_type": "markdown",
   "metadata": {},
   "source": [
    "Yelp is an application to provide the platform for customers to write reviews and provide a star-rating. A research indicates that a one-star increase led to 59% increase in revenue of independent restaurants. Therefore, we see great potential of Yelp dataset as a valuable insights repository"
   ]
  },
  {
   "cell_type": "markdown",
   "metadata": {},
   "source": [
    "The Yelp dataset is downloaded from Kaggle website. In total, there are 5,200,000 user reviews, information on 174,000 business. we will focus on two tables which are business table and review table."
   ]
  },
  {
   "cell_type": "markdown",
   "metadata": {},
   "source": [
    "#### Attributes of business table are as following:\n",
    "\n",
    "    -business_id: ID of the business\n",
    "    -name: name of the business\n",
    "    -address: address of the business\n",
    "    -city: city of the business\n",
    "    -latitude: latitude of the business\n",
    "    -longitude: longitude of the business\n",
    "    -stars: average rating of the business\n",
    "    -review_count: number of reviews received\n",
    "    -categories: multiple categories of the business\n",
    "\n",
    "#### Attribues of review table are as following:\n",
    "\n",
    "    -review_id: ID of the review\n",
    "    -user_id: ID of the user\n",
    "    -business_id: ID of the business\n",
    "    -stars: ratings of the business\n",
    "    -date: review date\n",
    "    -text: review from the user\n",
    "    -useful: number of users who vote a review as usefull\n",
    "    -funny: number of users who vote a review as funny\n",
    "    -cool: number of users who vote a review as cool"
   ]
  },
  {
   "cell_type": "code",
   "execution_count": 2,
   "metadata": {},
   "outputs": [
    {
     "data": {
      "text/html": [
       "        <script type=\"text/javascript\">\n",
       "        window.PlotlyConfig = {MathJaxConfig: 'local'};\n",
       "        if (window.MathJax) {MathJax.Hub.Config({SVG: {font: \"STIX-Web\"}});}\n",
       "        if (typeof require !== 'undefined') {\n",
       "        require.undef(\"plotly\");\n",
       "        requirejs.config({\n",
       "            paths: {\n",
       "                'plotly': ['https://cdn.plot.ly/plotly-latest.min']\n",
       "            }\n",
       "        });\n",
       "        require(['plotly'], function(Plotly) {\n",
       "            window._Plotly = Plotly;\n",
       "        });\n",
       "        }\n",
       "        </script>\n",
       "        "
      ]
     },
     "metadata": {},
     "output_type": "display_data"
    }
   ],
   "source": [
    "#import packages\n",
    "#basic\n",
    "import numpy as np\n",
    "import pandas as pd\n",
    "\n",
    "#misc\n",
    "import gc\n",
    "import time\n",
    "import warnings\n",
    "\n",
    "\n",
    "#visualization\n",
    "import matplotlib.pyplot as plt\n",
    "import seaborn as sns \n",
    "import matplotlib.gridspec as gridspec \n",
    "import matplotlib.gridspec as gridspec \n",
    "\n",
    "\n",
    "#graph section\n",
    "import networkx as nx\n",
    "import heapq  #for getting top n number of things from list,dict\n",
    "\n",
    "#import ploty for visualization\n",
    "import plotly\n",
    "import plotly.offline as py # make offline \n",
    "py.init_notebook_mode(connected=True)\n",
    "import plotly.tools as tls\n",
    "import plotly.graph_objs as go\n",
    "from plotly.graph_objs import *\n",
    "import plotly.tools as tls\n",
    "import plotly.figure_factory as fig_fact\n",
    "plotly.tools.set_config_file(world_readable=True, sharing='public')\n",
    "import warnings\n",
    "warnings.filterwarnings('ignore')\n",
    "from wordcloud import WordCloud\n",
    "import squarify\n",
    "import nltk\n",
    "from nltk.corpus import stopwords \n",
    "from nltk.stem.porter import PorterStemmer\n",
    "from nltk.stem.wordnet import WordNetLemmatizer\n",
    "import string\n",
    "import re \n",
    "import gensim \n",
    "from gensim import corpora\n",
    "\n",
    "# this will allow ploting inside the notebook\n",
    "%matplotlib inline\n",
    "\n",
    "#settings\n",
    "start_time=time.time()\n",
    "color = sns.color_palette()\n",
    "sns.set_style(\"dark\")"
   ]
  },
  {
   "cell_type": "markdown",
   "metadata": {},
   "source": [
    "### READING BUSINESS DATA"
   ]
  },
  {
   "cell_type": "code",
   "execution_count": 3,
   "metadata": {},
   "outputs": [
    {
     "name": "stdout",
     "output_type": "stream",
     "text": [
      "It took 1.0304210186004639 s\n"
     ]
    },
    {
     "data": {
      "text/html": [
       "<div>\n",
       "<style scoped>\n",
       "    .dataframe tbody tr th:only-of-type {\n",
       "        vertical-align: middle;\n",
       "    }\n",
       "\n",
       "    .dataframe tbody tr th {\n",
       "        vertical-align: top;\n",
       "    }\n",
       "\n",
       "    .dataframe thead th {\n",
       "        text-align: right;\n",
       "    }\n",
       "</style>\n",
       "<table border=\"1\" class=\"dataframe\">\n",
       "  <thead>\n",
       "    <tr style=\"text-align: right;\">\n",
       "      <th></th>\n",
       "      <th>business_id</th>\n",
       "      <th>name</th>\n",
       "      <th>neighborhood</th>\n",
       "      <th>address</th>\n",
       "      <th>city</th>\n",
       "      <th>state</th>\n",
       "      <th>postal_code</th>\n",
       "      <th>latitude</th>\n",
       "      <th>longitude</th>\n",
       "      <th>stars</th>\n",
       "      <th>review_count</th>\n",
       "      <th>is_open</th>\n",
       "      <th>categories</th>\n",
       "    </tr>\n",
       "  </thead>\n",
       "  <tbody>\n",
       "    <tr>\n",
       "      <th>0</th>\n",
       "      <td>FYWN1wneV18bWNgQjJ2GNg</td>\n",
       "      <td>\"Dental by Design\"</td>\n",
       "      <td>NaN</td>\n",
       "      <td>\"4855 E Warner Rd, Ste B9\"</td>\n",
       "      <td>Ahwatukee</td>\n",
       "      <td>AZ</td>\n",
       "      <td>85044</td>\n",
       "      <td>33.330690</td>\n",
       "      <td>-111.978599</td>\n",
       "      <td>4.0</td>\n",
       "      <td>22</td>\n",
       "      <td>1</td>\n",
       "      <td>Dentists;General Dentistry;Health &amp; Medical;Or...</td>\n",
       "    </tr>\n",
       "    <tr>\n",
       "      <th>1</th>\n",
       "      <td>He-G7vWjzVUysIKrfNbPUQ</td>\n",
       "      <td>\"Stephen Szabo Salon\"</td>\n",
       "      <td>NaN</td>\n",
       "      <td>\"3101 Washington Rd\"</td>\n",
       "      <td>McMurray</td>\n",
       "      <td>PA</td>\n",
       "      <td>15317</td>\n",
       "      <td>40.291685</td>\n",
       "      <td>-80.104900</td>\n",
       "      <td>3.0</td>\n",
       "      <td>11</td>\n",
       "      <td>1</td>\n",
       "      <td>Hair Stylists;Hair Salons;Men's Hair Salons;Bl...</td>\n",
       "    </tr>\n",
       "    <tr>\n",
       "      <th>2</th>\n",
       "      <td>KQPW8lFf1y5BT2MxiSZ3QA</td>\n",
       "      <td>\"Western Motor Vehicle\"</td>\n",
       "      <td>NaN</td>\n",
       "      <td>\"6025 N 27th Ave, Ste 1\"</td>\n",
       "      <td>Phoenix</td>\n",
       "      <td>AZ</td>\n",
       "      <td>85017</td>\n",
       "      <td>33.524903</td>\n",
       "      <td>-112.115310</td>\n",
       "      <td>1.5</td>\n",
       "      <td>18</td>\n",
       "      <td>1</td>\n",
       "      <td>Departments of Motor Vehicles;Public Services ...</td>\n",
       "    </tr>\n",
       "    <tr>\n",
       "      <th>3</th>\n",
       "      <td>8DShNS-LuFqpEWIp0HxijA</td>\n",
       "      <td>\"Sports Authority\"</td>\n",
       "      <td>NaN</td>\n",
       "      <td>\"5000 Arizona Mills Cr, Ste 435\"</td>\n",
       "      <td>Tempe</td>\n",
       "      <td>AZ</td>\n",
       "      <td>85282</td>\n",
       "      <td>33.383147</td>\n",
       "      <td>-111.964725</td>\n",
       "      <td>3.0</td>\n",
       "      <td>9</td>\n",
       "      <td>0</td>\n",
       "      <td>Sporting Goods;Shopping</td>\n",
       "    </tr>\n",
       "    <tr>\n",
       "      <th>4</th>\n",
       "      <td>PfOCPjBrlQAnz__NXj9h_w</td>\n",
       "      <td>\"Brick House Tavern + Tap\"</td>\n",
       "      <td>NaN</td>\n",
       "      <td>\"581 Howe Ave\"</td>\n",
       "      <td>Cuyahoga Falls</td>\n",
       "      <td>OH</td>\n",
       "      <td>44221</td>\n",
       "      <td>41.119535</td>\n",
       "      <td>-81.475690</td>\n",
       "      <td>3.5</td>\n",
       "      <td>116</td>\n",
       "      <td>1</td>\n",
       "      <td>American (New);Nightlife;Bars;Sandwiches;Ameri...</td>\n",
       "    </tr>\n",
       "  </tbody>\n",
       "</table>\n",
       "</div>"
      ],
      "text/plain": [
       "              business_id                        name neighborhood  \\\n",
       "0  FYWN1wneV18bWNgQjJ2GNg          \"Dental by Design\"          NaN   \n",
       "1  He-G7vWjzVUysIKrfNbPUQ       \"Stephen Szabo Salon\"          NaN   \n",
       "2  KQPW8lFf1y5BT2MxiSZ3QA     \"Western Motor Vehicle\"          NaN   \n",
       "3  8DShNS-LuFqpEWIp0HxijA          \"Sports Authority\"          NaN   \n",
       "4  PfOCPjBrlQAnz__NXj9h_w  \"Brick House Tavern + Tap\"          NaN   \n",
       "\n",
       "                            address            city state postal_code  \\\n",
       "0        \"4855 E Warner Rd, Ste B9\"       Ahwatukee    AZ       85044   \n",
       "1              \"3101 Washington Rd\"        McMurray    PA       15317   \n",
       "2          \"6025 N 27th Ave, Ste 1\"         Phoenix    AZ       85017   \n",
       "3  \"5000 Arizona Mills Cr, Ste 435\"           Tempe    AZ       85282   \n",
       "4                    \"581 Howe Ave\"  Cuyahoga Falls    OH       44221   \n",
       "\n",
       "    latitude   longitude  stars  review_count  is_open  \\\n",
       "0  33.330690 -111.978599    4.0            22        1   \n",
       "1  40.291685  -80.104900    3.0            11        1   \n",
       "2  33.524903 -112.115310    1.5            18        1   \n",
       "3  33.383147 -111.964725    3.0             9        0   \n",
       "4  41.119535  -81.475690    3.5           116        1   \n",
       "\n",
       "                                          categories  \n",
       "0  Dentists;General Dentistry;Health & Medical;Or...  \n",
       "1  Hair Stylists;Hair Salons;Men's Hair Salons;Bl...  \n",
       "2  Departments of Motor Vehicles;Public Services ...  \n",
       "3                            Sporting Goods;Shopping  \n",
       "4  American (New);Nightlife;Bars;Sandwiches;Ameri...  "
      ]
     },
     "execution_count": 3,
     "metadata": {},
     "output_type": "execute_result"
    }
   ],
   "source": [
    "business=pd.read_csv(\"../varun/yelp_business.csv\")\n",
    "end_time=time.time()\n",
    "print(\"It took\",end_time-start_time,\"s\")\n",
    "business.head()"
   ]
  },
  {
   "cell_type": "markdown",
   "metadata": {},
   "source": [
    "### READING REVIEW DATA  "
   ]
  },
  {
   "cell_type": "code",
   "execution_count": 4,
   "metadata": {},
   "outputs": [
    {
     "name": "stdout",
     "output_type": "stream",
     "text": [
      "It took 69.12743210792542 s\n"
     ]
    },
    {
     "data": {
      "text/html": [
       "<div>\n",
       "<style scoped>\n",
       "    .dataframe tbody tr th:only-of-type {\n",
       "        vertical-align: middle;\n",
       "    }\n",
       "\n",
       "    .dataframe tbody tr th {\n",
       "        vertical-align: top;\n",
       "    }\n",
       "\n",
       "    .dataframe thead th {\n",
       "        text-align: right;\n",
       "    }\n",
       "</style>\n",
       "<table border=\"1\" class=\"dataframe\">\n",
       "  <thead>\n",
       "    <tr style=\"text-align: right;\">\n",
       "      <th></th>\n",
       "      <th>review_id</th>\n",
       "      <th>business_id</th>\n",
       "      <th>stars</th>\n",
       "      <th>text</th>\n",
       "    </tr>\n",
       "  </thead>\n",
       "  <tbody>\n",
       "    <tr>\n",
       "      <th>0</th>\n",
       "      <td>vkVSCC7xljjrAI4UGfnKEQ</td>\n",
       "      <td>AEx2SYEUJmTxVVB18LlCwA</td>\n",
       "      <td>5</td>\n",
       "      <td>Super simple place but amazing nonetheless. It...</td>\n",
       "    </tr>\n",
       "    <tr>\n",
       "      <th>1</th>\n",
       "      <td>n6QzIUObkYshz4dz2QRJTw</td>\n",
       "      <td>VR6GpWIda3SfvPC-lg9H3w</td>\n",
       "      <td>5</td>\n",
       "      <td>Small unassuming place that changes their menu...</td>\n",
       "    </tr>\n",
       "    <tr>\n",
       "      <th>2</th>\n",
       "      <td>MV3CcKScW05u5LVfF6ok0g</td>\n",
       "      <td>CKC0-MOWMqoeWf6s-szl8g</td>\n",
       "      <td>5</td>\n",
       "      <td>Lester's is located in a beautiful neighborhoo...</td>\n",
       "    </tr>\n",
       "    <tr>\n",
       "      <th>3</th>\n",
       "      <td>IXvOzsEMYtiJI0CARmj77Q</td>\n",
       "      <td>ACFtxLv8pGrrxMm6EgjreA</td>\n",
       "      <td>4</td>\n",
       "      <td>Love coming here. Yes the place always needs t...</td>\n",
       "    </tr>\n",
       "    <tr>\n",
       "      <th>4</th>\n",
       "      <td>L_9BTb55X0GDtThi6GlZ6w</td>\n",
       "      <td>s2I_Ni76bjJNK9yG60iD-Q</td>\n",
       "      <td>4</td>\n",
       "      <td>Had their chocolate almond croissant and it wa...</td>\n",
       "    </tr>\n",
       "  </tbody>\n",
       "</table>\n",
       "</div>"
      ],
      "text/plain": [
       "                review_id             business_id  stars  \\\n",
       "0  vkVSCC7xljjrAI4UGfnKEQ  AEx2SYEUJmTxVVB18LlCwA      5   \n",
       "1  n6QzIUObkYshz4dz2QRJTw  VR6GpWIda3SfvPC-lg9H3w      5   \n",
       "2  MV3CcKScW05u5LVfF6ok0g  CKC0-MOWMqoeWf6s-szl8g      5   \n",
       "3  IXvOzsEMYtiJI0CARmj77Q  ACFtxLv8pGrrxMm6EgjreA      4   \n",
       "4  L_9BTb55X0GDtThi6GlZ6w  s2I_Ni76bjJNK9yG60iD-Q      4   \n",
       "\n",
       "                                                text  \n",
       "0  Super simple place but amazing nonetheless. It...  \n",
       "1  Small unassuming place that changes their menu...  \n",
       "2  Lester's is located in a beautiful neighborhoo...  \n",
       "3  Love coming here. Yes the place always needs t...  \n",
       "4  Had their chocolate almond croissant and it wa...  "
      ]
     },
     "execution_count": 4,
     "metadata": {},
     "output_type": "execute_result"
    }
   ],
   "source": [
    "reviews=pd.read_csv(\"../varun/yelp_review.csv\")\n",
    "reviews=reviews.drop(['user_id','date','useful','funny','cool'],axis=1)\n",
    "end_time=time.time()\n",
    "print(\"It took\",end_time-start_time,\"s\")\n",
    "reviews.head()"
   ]
  },
  {
   "cell_type": "markdown",
   "metadata": {},
   "source": [
    "### Star Rating Distribution of all businesses on Yelp"
   ]
  },
  {
   "cell_type": "code",
   "execution_count": 5,
   "metadata": {},
   "outputs": [
    {
     "data": {
      "image/png": "[encoded data removed]",
      "text/plain": [
       "<Figure size 864x432 with 1 Axes>"
      ]
     },
     "metadata": {
      "needs_background": "light"
     },
     "output_type": "display_data"
    }
   ],
   "source": [
    "x=business['stars'].value_counts()\n",
    "x=x.sort_index()\n",
    "#plot\n",
    "plt.figure(figsize=(12,6))\n",
    "ax= sns.barplot(x.index, x.values, palette = 'Set1')\n",
    "plt.title(\"Star Rating Distribution of all businesses on Yelp\")\n",
    "plt.ylabel('Number of businesses', fontsize=12)\n",
    "plt.xlabel('Star Ratings ', fontsize=12)\n",
    "\n",
    "#adding the text labels\n",
    "rects = ax.patches\n",
    "labels = x.values\n",
    "for rect, label in zip(rects, labels):\n",
    "    height = rect.get_height()\n",
    "    ax.text(rect.get_x() + rect.get_width()/2, height + 5, label, ha='center', va='bottom')\n",
    "\n",
    "plt.show()"
   ]
  },
  {
   "cell_type": "markdown",
   "metadata": {},
   "source": [
    "### TOP CATEGORIES"
   ]
  },
  {
   "cell_type": "code",
   "execution_count": 6,
   "metadata": {},
   "outputs": [
    {
     "name": "stdout",
     "output_type": "stream",
     "text": [
      "There are  59106  different types/categories of Businesses in Yelp!\n"
     ]
    },
    {
     "data": {
      "image/png": "[encoded data removed]",
      "text/plain": [
       "<Figure size 1152x288 with 1 Axes>"
      ]
     },
     "metadata": {
      "needs_background": "light"
     },
     "output_type": "display_data"
    }
   ],
   "source": [
    "# What are the popular business categories?\n",
    "business_cats=' '.join(business['categories'])\n",
    "\n",
    "cats=pd.DataFrame(business_cats.split(';'),columns=['category'])\n",
    "x=cats.category.value_counts()\n",
    "print(\"There are \",len(x),\" different types/categories of Businesses in Yelp!\")\n",
    "#prep for chart\n",
    "x=x.sort_values(ascending=False)\n",
    "x=x.iloc[0:20]\n",
    "\n",
    "#chart\n",
    "plt.figure(figsize=(16,4))\n",
    "ax = sns.barplot(x.index, x.values, palette = 'Set1')\n",
    "plt.title(\"Restaurant is the top categories on Yelp\",fontsize=30)\n",
    "locs, labels = plt.xticks()\n",
    "plt.setp(labels, rotation=90)\n",
    "plt.ylabel('Number of businesses', fontsize=20)\n",
    "plt.xlabel('Category', fontsize=20)\n",
    "\n",
    "#adding the text labels\n",
    "rects = ax.patches\n",
    "labels = x.values\n",
    "for rect, label in zip(rects, labels):\n",
    "    height = rect.get_height()\n",
    "    ax.text(rect.get_x() + rect.get_width()/2, height + 5, label, ha='center', va='bottom')\n",
    "\n",
    "plt.show()"
   ]
  },
  {
   "cell_type": "markdown",
   "metadata": {},
   "source": [
    "### MOST POPULAR CITY ON YELP"
   ]
  },
  {
   "cell_type": "code",
   "execution_count": 7,
   "metadata": {},
   "outputs": [
    {
     "data": {
      "image/png": "[encoded data removed]",
      "text/plain": [
       "<Figure size 1152x288 with 1 Axes>"
      ]
     },
     "metadata": {
      "needs_background": "light"
     },
     "output_type": "display_data"
    }
   ],
   "source": [
    "#Get the distribution of the ratings\n",
    "x=business['city'].value_counts()\n",
    "x=x.sort_values(ascending=False)\n",
    "x=x.iloc[0:20]\n",
    "plt.figure(figsize=(16,4))\n",
    "ax = sns.barplot(x.index, x.values, palette = 'Set1')\n",
    "plt.title(\"Las Vegas has the most reviews\",fontsize=30)\n",
    "locs, labels = plt.xticks()\n",
    "plt.setp(labels, rotation=45)\n",
    "plt.ylabel('Number of businesses', fontsize=20)\n",
    "plt.xlabel('City', fontsize=20)\n",
    "\n",
    "#adding the text labels\n",
    "rects = ax.patches\n",
    "labels = x.values\n",
    "for rect, label in zip(rects, labels):\n",
    "    height = rect.get_height()\n",
    "    ax.text(rect.get_x() + rect.get_width()/2, height + 5, label, ha='center', va='bottom')\n",
    "\n",
    "plt.show()"
   ]
  },
  {
   "cell_type": "markdown",
   "metadata": {},
   "source": [
    "### POSITVE REVIEWED BUSINESSES"
   ]
  },
  {
   "cell_type": "code",
   "execution_count": 9,
   "metadata": {},
   "outputs": [
    {
     "data": {
      "image/png": "[encoded data removed]",
      "text/plain": [
       "<Figure size 1008x432 with 1 Axes>"
      ]
     },
     "metadata": {
      "needs_background": "light"
     },
     "output_type": "display_data"
    }
   ],
   "source": [
    "top_reviewed = reviews[reviews[\"stars\"]>3]\n",
    "top_reviews_dict ={}\n",
    "\n",
    "for business_id in top_reviewed[\"business_id\"].values:\n",
    "    try :\n",
    "        top_reviews_dict[business_id] =top_reviews_dict[business_id]+1\n",
    "    except:\n",
    "        top_reviews_dict[business_id]=1\n",
    "        \n",
    "topbusiness = pd.DataFrame.from_dict(data= top_reviews_dict,orient=\"index\")\n",
    "\n",
    "topbusiness.reset_index(inplace=True)\n",
    "topbusiness.columns = ['business_id', 'rated']\n",
    "del(top_reviews_dict)\n",
    "del(top_reviewed)\n",
    "\n",
    "top_count= 20\n",
    "right=pd.DataFrame(business[['business_id',\"name\",\"categories\"]].values,\n",
    "                    columns=['business_id',\"Business name\",\"categories\"])\n",
    "\n",
    "top_business_data = pd.merge(topbusiness,right=right, how=\"inner\",on='business_id')\n",
    "top_business_data.sort_values(\"rated\")[::-1][:top_count].plot(x=\"Business name\",y=\"rated\", \n",
    "                                                   kind=\"bar\",figsize=(14,6),\n",
    "                                                   title='Positive reviews').set_ylabel(\"Total ratings\")\n",
    "\n",
    "del(topbusiness)\n",
    "del(right)"
   ]
  },
  {
   "cell_type": "markdown",
   "metadata": {},
   "source": [
    "### NEGATIVE REVIEWED BUSINESSES"
   ]
  },
  {
   "cell_type": "code",
   "execution_count": 10,
   "metadata": {},
   "outputs": [
    {
     "data": {
      "image/png": "[encoded data removed]",
      "text/plain": [
       "<Figure size 1008x432 with 1 Axes>"
      ]
     },
     "metadata": {
      "needs_background": "light"
     },
     "output_type": "display_data"
    }
   ],
   "source": [
    "bottom_reviewed = reviews[reviews[\"stars\"]<2]\n",
    "bottom_reviews_dict ={} \n",
    "\n",
    "for business_id in bottom_reviewed[\"business_id\"].values:\n",
    "    try :\n",
    "        bottom_reviews_dict[business_id] =bottom_reviews_dict[business_id]+1\n",
    "    except:\n",
    "        bottom_reviews_dict[business_id]=1\n",
    "        \n",
    "bottombusiness = pd.DataFrame.from_dict(data= bottom_reviews_dict,orient=\"index\")\n",
    "\n",
    "bottombusiness.reset_index(inplace=True)\n",
    "#bottombusiness.head()\n",
    "bottombusiness.columns = ['business_id', 'rated']\n",
    "\n",
    "top_count= 20\n",
    "right=pd.DataFrame(business[['business_id',\"name\",\"categories\"]].values,\n",
    "                    columns=['business_id',\"Business name\",\"categories\"])\n",
    "\n",
    "bottom_business_data = pd.merge(bottombusiness,right=right, how=\"inner\",on='business_id')\n",
    "bottom_business_data.sort_values(\"rated\")[::-1][:top_count].plot(x=\"Business name\",y=\"rated\", \n",
    "                                                   kind=\"bar\",figsize=(14,6),\n",
    "                                                   title='Negative reviews').set_ylabel(\"Total 1 star ratings\")\n",
    "\n",
    "del(bottom_reviewed)\n",
    "del(bottom_reviews_dict)\n",
    "del(bottombusiness)\n",
    "del(right)"
   ]
  },
  {
   "cell_type": "markdown",
   "metadata": {},
   "source": [
    "### Joining Business and Review data files"
   ]
  },
  {
   "cell_type": "code",
   "execution_count": 11,
   "metadata": {},
   "outputs": [],
   "source": [
    "yelp_review_merge = pd.merge(reviews, business, on='business_id', how='left', suffixes=('_review', '_biz'))"
   ]
  },
  {
   "cell_type": "code",
   "execution_count": 12,
   "metadata": {},
   "outputs": [
    {
     "data": {
      "text/html": [
       "<div>\n",
       "<style scoped>\n",
       "    .dataframe tbody tr th:only-of-type {\n",
       "        vertical-align: middle;\n",
       "    }\n",
       "\n",
       "    .dataframe tbody tr th {\n",
       "        vertical-align: top;\n",
       "    }\n",
       "\n",
       "    .dataframe thead th {\n",
       "        text-align: right;\n",
       "    }\n",
       "</style>\n",
       "<table border=\"1\" class=\"dataframe\">\n",
       "  <thead>\n",
       "    <tr style=\"text-align: right;\">\n",
       "      <th></th>\n",
       "      <th>review_id</th>\n",
       "      <th>business_id</th>\n",
       "      <th>stars_review</th>\n",
       "      <th>text</th>\n",
       "      <th>name</th>\n",
       "      <th>neighborhood</th>\n",
       "      <th>address</th>\n",
       "      <th>city</th>\n",
       "      <th>state</th>\n",
       "      <th>postal_code</th>\n",
       "      <th>latitude</th>\n",
       "      <th>longitude</th>\n",
       "      <th>stars_biz</th>\n",
       "      <th>review_count</th>\n",
       "      <th>is_open</th>\n",
       "      <th>categories</th>\n",
       "    </tr>\n",
       "  </thead>\n",
       "  <tbody>\n",
       "    <tr>\n",
       "      <th>0</th>\n",
       "      <td>vkVSCC7xljjrAI4UGfnKEQ</td>\n",
       "      <td>AEx2SYEUJmTxVVB18LlCwA</td>\n",
       "      <td>5</td>\n",
       "      <td>Super simple place but amazing nonetheless. It...</td>\n",
       "      <td>\"Wilensky's\"</td>\n",
       "      <td>Plateau-Mont-Royal</td>\n",
       "      <td>\"34 Avenue Fairmount Ouest\"</td>\n",
       "      <td>Montréal</td>\n",
       "      <td>QC</td>\n",
       "      <td>H2T 2M1</td>\n",
       "      <td>45.523333</td>\n",
       "      <td>-73.594859</td>\n",
       "      <td>4.0</td>\n",
       "      <td>84</td>\n",
       "      <td>1</td>\n",
       "      <td>Diners;Food;Restaurants;Delis</td>\n",
       "    </tr>\n",
       "    <tr>\n",
       "      <th>1</th>\n",
       "      <td>n6QzIUObkYshz4dz2QRJTw</td>\n",
       "      <td>VR6GpWIda3SfvPC-lg9H3w</td>\n",
       "      <td>5</td>\n",
       "      <td>Small unassuming place that changes their menu...</td>\n",
       "      <td>\"Tuck Shop\"</td>\n",
       "      <td>Sud-Ouest</td>\n",
       "      <td>\"4662 Rue Notre-Dame O\"</td>\n",
       "      <td>Montréal</td>\n",
       "      <td>QC</td>\n",
       "      <td>H4C 1S7</td>\n",
       "      <td>45.472902</td>\n",
       "      <td>-73.588321</td>\n",
       "      <td>4.5</td>\n",
       "      <td>50</td>\n",
       "      <td>1</td>\n",
       "      <td>Restaurants;Canadian (New);Italian</td>\n",
       "    </tr>\n",
       "    <tr>\n",
       "      <th>2</th>\n",
       "      <td>MV3CcKScW05u5LVfF6ok0g</td>\n",
       "      <td>CKC0-MOWMqoeWf6s-szl8g</td>\n",
       "      <td>5</td>\n",
       "      <td>Lester's is located in a beautiful neighborhoo...</td>\n",
       "      <td>\"Lester's Deli\"</td>\n",
       "      <td>Outremont</td>\n",
       "      <td>\"1057 Avenue Bernard\"</td>\n",
       "      <td>Outremont</td>\n",
       "      <td>QC</td>\n",
       "      <td>H2V 1V1</td>\n",
       "      <td>45.522144</td>\n",
       "      <td>-73.607076</td>\n",
       "      <td>4.0</td>\n",
       "      <td>70</td>\n",
       "      <td>1</td>\n",
       "      <td>Specialty Food;Food;Sandwiches;Restaurants;Bur...</td>\n",
       "    </tr>\n",
       "    <tr>\n",
       "      <th>3</th>\n",
       "      <td>IXvOzsEMYtiJI0CARmj77Q</td>\n",
       "      <td>ACFtxLv8pGrrxMm6EgjreA</td>\n",
       "      <td>4</td>\n",
       "      <td>Love coming here. Yes the place always needs t...</td>\n",
       "      <td>\"Five Guys\"</td>\n",
       "      <td>Ville-Marie</td>\n",
       "      <td>\"698 Rue Sainte-Catherine O\"</td>\n",
       "      <td>Montréal</td>\n",
       "      <td>QC</td>\n",
       "      <td>H3B 1B9</td>\n",
       "      <td>45.502510</td>\n",
       "      <td>-73.570119</td>\n",
       "      <td>3.5</td>\n",
       "      <td>61</td>\n",
       "      <td>1</td>\n",
       "      <td>Fast Food;Restaurants;Burgers</td>\n",
       "    </tr>\n",
       "    <tr>\n",
       "      <th>4</th>\n",
       "      <td>L_9BTb55X0GDtThi6GlZ6w</td>\n",
       "      <td>s2I_Ni76bjJNK9yG60iD-Q</td>\n",
       "      <td>4</td>\n",
       "      <td>Had their chocolate almond croissant and it wa...</td>\n",
       "      <td>\"Maison Christian Faure\"</td>\n",
       "      <td>Ville-Marie</td>\n",
       "      <td>\"355 Place Royale\"</td>\n",
       "      <td>Montréal</td>\n",
       "      <td>QC</td>\n",
       "      <td>H2Y 1Z6</td>\n",
       "      <td>45.503544</td>\n",
       "      <td>-73.554469</td>\n",
       "      <td>4.5</td>\n",
       "      <td>397</td>\n",
       "      <td>1</td>\n",
       "      <td>Bakeries;Restaurants;Food;Sandwiches;Cafes;Cof...</td>\n",
       "    </tr>\n",
       "  </tbody>\n",
       "</table>\n",
       "</div>"
      ],
      "text/plain": [
       "                review_id             business_id  stars_review  \\\n",
       "0  vkVSCC7xljjrAI4UGfnKEQ  AEx2SYEUJmTxVVB18LlCwA             5   \n",
       "1  n6QzIUObkYshz4dz2QRJTw  VR6GpWIda3SfvPC-lg9H3w             5   \n",
       "2  MV3CcKScW05u5LVfF6ok0g  CKC0-MOWMqoeWf6s-szl8g             5   \n",
       "3  IXvOzsEMYtiJI0CARmj77Q  ACFtxLv8pGrrxMm6EgjreA             4   \n",
       "4  L_9BTb55X0GDtThi6GlZ6w  s2I_Ni76bjJNK9yG60iD-Q             4   \n",
       "\n",
       "                                                text  \\\n",
       "0  Super simple place but amazing nonetheless. It...   \n",
       "1  Small unassuming place that changes their menu...   \n",
       "2  Lester's is located in a beautiful neighborhoo...   \n",
       "3  Love coming here. Yes the place always needs t...   \n",
       "4  Had their chocolate almond croissant and it wa...   \n",
       "\n",
       "                       name        neighborhood                       address  \\\n",
       "0              \"Wilensky's\"  Plateau-Mont-Royal   \"34 Avenue Fairmount Ouest\"   \n",
       "1               \"Tuck Shop\"           Sud-Ouest       \"4662 Rue Notre-Dame O\"   \n",
       "2           \"Lester's Deli\"           Outremont         \"1057 Avenue Bernard\"   \n",
       "3               \"Five Guys\"         Ville-Marie  \"698 Rue Sainte-Catherine O\"   \n",
       "4  \"Maison Christian Faure\"         Ville-Marie            \"355 Place Royale\"   \n",
       "\n",
       "        city state postal_code   latitude  longitude  stars_biz  review_count  \\\n",
       "0   Montréal    QC     H2T 2M1  45.523333 -73.594859        4.0            84   \n",
       "1   Montréal    QC     H4C 1S7  45.472902 -73.588321        4.5            50   \n",
       "2  Outremont    QC     H2V 1V1  45.522144 -73.607076        4.0            70   \n",
       "3   Montréal    QC     H3B 1B9  45.502510 -73.570119        3.5            61   \n",
       "4   Montréal    QC     H2Y 1Z6  45.503544 -73.554469        4.5           397   \n",
       "\n",
       "   is_open                                         categories  \n",
       "0        1                      Diners;Food;Restaurants;Delis  \n",
       "1        1                 Restaurants;Canadian (New);Italian  \n",
       "2        1  Specialty Food;Food;Sandwiches;Restaurants;Bur...  \n",
       "3        1                      Fast Food;Restaurants;Burgers  \n",
       "4        1  Bakeries;Restaurants;Food;Sandwiches;Cafes;Cof...  "
      ]
     },
     "execution_count": 12,
     "metadata": {},
     "output_type": "execute_result"
    }
   ],
   "source": [
    "yelp_review_merge.head()"
   ]
  },
  {
   "cell_type": "markdown",
   "metadata": {},
   "source": [
    "### Filtering Las Vegas and Restaurant as they are the most prominent on Yelp"
   ]
  },
  {
   "cell_type": "code",
   "execution_count": 13,
   "metadata": {
    "scrolled": true
   },
   "outputs": [
    {
     "data": {
      "text/html": [
       "<div>\n",
       "<style scoped>\n",
       "    .dataframe tbody tr th:only-of-type {\n",
       "        vertical-align: middle;\n",
       "    }\n",
       "\n",
       "    .dataframe tbody tr th {\n",
       "        vertical-align: top;\n",
       "    }\n",
       "\n",
       "    .dataframe thead th {\n",
       "        text-align: right;\n",
       "    }\n",
       "</style>\n",
       "<table border=\"1\" class=\"dataframe\">\n",
       "  <thead>\n",
       "    <tr style=\"text-align: right;\">\n",
       "      <th></th>\n",
       "      <th>review_id</th>\n",
       "      <th>business_id</th>\n",
       "      <th>stars_review</th>\n",
       "      <th>text</th>\n",
       "      <th>name</th>\n",
       "      <th>neighborhood</th>\n",
       "      <th>address</th>\n",
       "      <th>city</th>\n",
       "      <th>state</th>\n",
       "      <th>postal_code</th>\n",
       "      <th>latitude</th>\n",
       "      <th>longitude</th>\n",
       "      <th>stars_biz</th>\n",
       "      <th>review_count</th>\n",
       "      <th>is_open</th>\n",
       "      <th>categories</th>\n",
       "      <th>restaurant</th>\n",
       "    </tr>\n",
       "  </thead>\n",
       "  <tbody>\n",
       "    <tr>\n",
       "      <th>3</th>\n",
       "      <td>QgSf2JvYz-M4PU2yuJjxNQ</td>\n",
       "      <td>9Jc3W0aR9Xf2gcHI0rEXsw</td>\n",
       "      <td>1</td>\n",
       "      <td>After being scared away from Rock &amp; Rita's, we...</td>\n",
       "      <td>\"The Garden Grill\"</td>\n",
       "      <td>The Strip</td>\n",
       "      <td>\"Circus Circus Las Vegas, 2800 Las Vegas Blvd S\"</td>\n",
       "      <td>Las Vegas</td>\n",
       "      <td>NV</td>\n",
       "      <td>89109</td>\n",
       "      <td>36.136978</td>\n",
       "      <td>-115.163337</td>\n",
       "      <td>3.0</td>\n",
       "      <td>57</td>\n",
       "      <td>0</td>\n",
       "      <td>American (Traditional);Pub Food;Fast Food;Rest...</td>\n",
       "      <td>True</td>\n",
       "    </tr>\n",
       "    <tr>\n",
       "      <th>4</th>\n",
       "      <td>gN6GARS_BRr5UX2D3WAH0w</td>\n",
       "      <td>xVEtGucSRLk5pxxN0t4i6g</td>\n",
       "      <td>5</td>\n",
       "      <td>We got recommendations for this place from my ...</td>\n",
       "      <td>\"Eiffel Tower\"</td>\n",
       "      <td>The Strip</td>\n",
       "      <td>\"3655 Las Vegas Blvd S\"</td>\n",
       "      <td>Las Vegas</td>\n",
       "      <td>NV</td>\n",
       "      <td>89109</td>\n",
       "      <td>36.112477</td>\n",
       "      <td>-115.172189</td>\n",
       "      <td>4.0</td>\n",
       "      <td>1549</td>\n",
       "      <td>1</td>\n",
       "      <td>Steakhouses;Nightlife;Bars;French;Restaurants;...</td>\n",
       "      <td>True</td>\n",
       "    </tr>\n",
       "    <tr>\n",
       "      <th>5</th>\n",
       "      <td>t4oXDPN4S4USIhBGpuSD8A</td>\n",
       "      <td>2LZGeJy8qByYKB71ML-jcw</td>\n",
       "      <td>2</td>\n",
       "      <td>We got a coupon to eat here when we checked in...</td>\n",
       "      <td>\"Rock &amp; Rita's\"</td>\n",
       "      <td>The Strip</td>\n",
       "      <td>\"Circus Circus Hotel and Casino, 2800 Las Vega...</td>\n",
       "      <td>Las Vegas</td>\n",
       "      <td>NV</td>\n",
       "      <td>89109</td>\n",
       "      <td>36.136947</td>\n",
       "      <td>-115.163814</td>\n",
       "      <td>2.5</td>\n",
       "      <td>94</td>\n",
       "      <td>0</td>\n",
       "      <td>American (Traditional);Barbeque;American (New)...</td>\n",
       "      <td>True</td>\n",
       "    </tr>\n",
       "    <tr>\n",
       "      <th>8</th>\n",
       "      <td>R9w7GeMX_KZTV23gmI8Zjg</td>\n",
       "      <td>RhV7sraRUB3km-gF-tmDow</td>\n",
       "      <td>3</td>\n",
       "      <td>I've eaten here numerous times and am still am...</td>\n",
       "      <td>\"Roberto's Taco Shop\"</td>\n",
       "      <td>Westside</td>\n",
       "      <td>\"1101 S Fort Apache Rd\"</td>\n",
       "      <td>Las Vegas</td>\n",
       "      <td>NV</td>\n",
       "      <td>89117</td>\n",
       "      <td>36.158426</td>\n",
       "      <td>-115.292048</td>\n",
       "      <td>3.0</td>\n",
       "      <td>58</td>\n",
       "      <td>1</td>\n",
       "      <td>Fast Food;Restaurants;Mexican</td>\n",
       "      <td>True</td>\n",
       "    </tr>\n",
       "    <tr>\n",
       "      <th>13</th>\n",
       "      <td>oncT7W70CFwzzJkQoz3T5Q</td>\n",
       "      <td>NaZVUOzqk5b-l0mlki-9Og</td>\n",
       "      <td>4</td>\n",
       "      <td>We stopped in here for lunch this afternoon. S...</td>\n",
       "      <td>\"Chun Fai Chinese Eatery\"</td>\n",
       "      <td>Spring Valley</td>\n",
       "      <td>\"6565 S Fort Apache Rd, Ste 175\"</td>\n",
       "      <td>Las Vegas</td>\n",
       "      <td>NV</td>\n",
       "      <td>89148</td>\n",
       "      <td>36.068968</td>\n",
       "      <td>-115.298684</td>\n",
       "      <td>3.5</td>\n",
       "      <td>180</td>\n",
       "      <td>1</td>\n",
       "      <td>Food;Soup;Restaurants;Chinese;Thai;Bubble Tea</td>\n",
       "      <td>True</td>\n",
       "    </tr>\n",
       "  </tbody>\n",
       "</table>\n",
       "</div>"
      ],
      "text/plain": [
       "                 review_id             business_id  stars_review  \\\n",
       "3   QgSf2JvYz-M4PU2yuJjxNQ  9Jc3W0aR9Xf2gcHI0rEXsw             1   \n",
       "4   gN6GARS_BRr5UX2D3WAH0w  xVEtGucSRLk5pxxN0t4i6g             5   \n",
       "5   t4oXDPN4S4USIhBGpuSD8A  2LZGeJy8qByYKB71ML-jcw             2   \n",
       "8   R9w7GeMX_KZTV23gmI8Zjg  RhV7sraRUB3km-gF-tmDow             3   \n",
       "13  oncT7W70CFwzzJkQoz3T5Q  NaZVUOzqk5b-l0mlki-9Og             4   \n",
       "\n",
       "                                                 text  \\\n",
       "3   After being scared away from Rock & Rita's, we...   \n",
       "4   We got recommendations for this place from my ...   \n",
       "5   We got a coupon to eat here when we checked in...   \n",
       "8   I've eaten here numerous times and am still am...   \n",
       "13  We stopped in here for lunch this afternoon. S...   \n",
       "\n",
       "                         name   neighborhood  \\\n",
       "3          \"The Garden Grill\"      The Strip   \n",
       "4              \"Eiffel Tower\"      The Strip   \n",
       "5             \"Rock & Rita's\"      The Strip   \n",
       "8       \"Roberto's Taco Shop\"       Westside   \n",
       "13  \"Chun Fai Chinese Eatery\"  Spring Valley   \n",
       "\n",
       "                                              address       city state  \\\n",
       "3    \"Circus Circus Las Vegas, 2800 Las Vegas Blvd S\"  Las Vegas    NV   \n",
       "4                             \"3655 Las Vegas Blvd S\"  Las Vegas    NV   \n",
       "5   \"Circus Circus Hotel and Casino, 2800 Las Vega...  Las Vegas    NV   \n",
       "8                             \"1101 S Fort Apache Rd\"  Las Vegas    NV   \n",
       "13                   \"6565 S Fort Apache Rd, Ste 175\"  Las Vegas    NV   \n",
       "\n",
       "   postal_code   latitude   longitude  stars_biz  review_count  is_open  \\\n",
       "3        89109  36.136978 -115.163337        3.0            57        0   \n",
       "4        89109  36.112477 -115.172189        4.0          1549        1   \n",
       "5        89109  36.136947 -115.163814        2.5            94        0   \n",
       "8        89117  36.158426 -115.292048        3.0            58        1   \n",
       "13       89148  36.068968 -115.298684        3.5           180        1   \n",
       "\n",
       "                                           categories  restaurant  \n",
       "3   American (Traditional);Pub Food;Fast Food;Rest...        True  \n",
       "4   Steakhouses;Nightlife;Bars;French;Restaurants;...        True  \n",
       "5   American (Traditional);Barbeque;American (New)...        True  \n",
       "8                       Fast Food;Restaurants;Mexican        True  \n",
       "13      Food;Soup;Restaurants;Chinese;Thai;Bubble Tea        True  "
      ]
     },
     "execution_count": 13,
     "metadata": {},
     "output_type": "execute_result"
    }
   ],
   "source": [
    "business_vegas=yelp_review_merge[yelp_review_merge['city']=='Las Vegas']\n",
    "business_vegas=business_vegas.reset_index(drop=True)\n",
    "import re\n",
    "business_vegas['restaurant']=business_vegas['categories'].str.contains('Restaurants',flags=re.IGNORECASE)\n",
    "business_vegas_restaurant=business_vegas[business_vegas['restaurant']==True]\n",
    "business_vegas_restaurant.head()\n"
   ]
  },
  {
   "cell_type": "markdown",
   "metadata": {},
   "source": [
    "### TOPIC MODELING\n",
    "#### Latent Dirichlet Allocation (LDA)\n",
    "\n",
    "The LDA is based upon two general assumptions:\n",
    "\n",
    "    -Documents that have similar words usually have the same topic\n",
    "    -Documents that have groups of words frequently occurring together usually have the same topic."
   ]
  },
  {
   "cell_type": "markdown",
   "metadata": {},
   "source": [
    "#### Taking only 20000 review data"
   ]
  },
  {
   "cell_type": "code",
   "execution_count": 14,
   "metadata": {},
   "outputs": [
    {
     "data": {
      "text/html": [
       "<div>\n",
       "<style scoped>\n",
       "    .dataframe tbody tr th:only-of-type {\n",
       "        vertical-align: middle;\n",
       "    }\n",
       "\n",
       "    .dataframe tbody tr th {\n",
       "        vertical-align: top;\n",
       "    }\n",
       "\n",
       "    .dataframe thead th {\n",
       "        text-align: right;\n",
       "    }\n",
       "</style>\n",
       "<table border=\"1\" class=\"dataframe\">\n",
       "  <thead>\n",
       "    <tr style=\"text-align: right;\">\n",
       "      <th></th>\n",
       "      <th>review_id</th>\n",
       "      <th>business_id</th>\n",
       "      <th>stars</th>\n",
       "      <th>text</th>\n",
       "    </tr>\n",
       "  </thead>\n",
       "  <tbody>\n",
       "    <tr>\n",
       "      <th>0</th>\n",
       "      <td>vkVSCC7xljjrAI4UGfnKEQ</td>\n",
       "      <td>AEx2SYEUJmTxVVB18LlCwA</td>\n",
       "      <td>5</td>\n",
       "      <td>Super simple place but amazing nonetheless. It...</td>\n",
       "    </tr>\n",
       "    <tr>\n",
       "      <th>1</th>\n",
       "      <td>n6QzIUObkYshz4dz2QRJTw</td>\n",
       "      <td>VR6GpWIda3SfvPC-lg9H3w</td>\n",
       "      <td>5</td>\n",
       "      <td>Small unassuming place that changes their menu...</td>\n",
       "    </tr>\n",
       "    <tr>\n",
       "      <th>2</th>\n",
       "      <td>MV3CcKScW05u5LVfF6ok0g</td>\n",
       "      <td>CKC0-MOWMqoeWf6s-szl8g</td>\n",
       "      <td>5</td>\n",
       "      <td>Lester's is located in a beautiful neighborhoo...</td>\n",
       "    </tr>\n",
       "    <tr>\n",
       "      <th>3</th>\n",
       "      <td>IXvOzsEMYtiJI0CARmj77Q</td>\n",
       "      <td>ACFtxLv8pGrrxMm6EgjreA</td>\n",
       "      <td>4</td>\n",
       "      <td>Love coming here. Yes the place always needs t...</td>\n",
       "    </tr>\n",
       "    <tr>\n",
       "      <th>4</th>\n",
       "      <td>L_9BTb55X0GDtThi6GlZ6w</td>\n",
       "      <td>s2I_Ni76bjJNK9yG60iD-Q</td>\n",
       "      <td>4</td>\n",
       "      <td>Had their chocolate almond croissant and it wa...</td>\n",
       "    </tr>\n",
       "  </tbody>\n",
       "</table>\n",
       "</div>"
      ],
      "text/plain": [
       "                review_id             business_id  stars  \\\n",
       "0  vkVSCC7xljjrAI4UGfnKEQ  AEx2SYEUJmTxVVB18LlCwA      5   \n",
       "1  n6QzIUObkYshz4dz2QRJTw  VR6GpWIda3SfvPC-lg9H3w      5   \n",
       "2  MV3CcKScW05u5LVfF6ok0g  CKC0-MOWMqoeWf6s-szl8g      5   \n",
       "3  IXvOzsEMYtiJI0CARmj77Q  ACFtxLv8pGrrxMm6EgjreA      4   \n",
       "4  L_9BTb55X0GDtThi6GlZ6w  s2I_Ni76bjJNK9yG60iD-Q      4   \n",
       "\n",
       "                                                text  \n",
       "0  Super simple place but amazing nonetheless. It...  \n",
       "1  Small unassuming place that changes their menu...  \n",
       "2  Lester's is located in a beautiful neighborhoo...  \n",
       "3  Love coming here. Yes the place always needs t...  \n",
       "4  Had their chocolate almond croissant and it wa...  "
      ]
     },
     "execution_count": 14,
     "metadata": {},
     "output_type": "execute_result"
    }
   ],
   "source": [
    "reviews_datasets = reviews.head(20000)  \n",
    "reviews_datasets.dropna()\n",
    "reviews_datasets.head()\n"
   ]
  },
  {
   "cell_type": "code",
   "execution_count": 15,
   "metadata": {},
   "outputs": [
    {
     "data": {
      "text/plain": [
       "\"I often stop here for my coffee on the way into work and to get gas. Service is usually fast and friendly. They have a fairly regular staff here who all know what they're doing.\""
      ]
     },
     "execution_count": 15,
     "metadata": {},
     "output_type": "execute_result"
    }
   ],
   "source": [
    "reviews_datasets['text'][200]  "
   ]
  },
  {
   "cell_type": "markdown",
   "metadata": {},
   "source": [
    "Create vocabulary of all the words in the data and\n",
    "Include those words that appear in less than 80% of the document and appear in at least 2 documents"
   ]
  },
  {
   "cell_type": "code",
   "execution_count": 16,
   "metadata": {},
   "outputs": [],
   "source": [
    "from sklearn.feature_extraction.text import CountVectorizer\n",
    "\n",
    "count_vect = CountVectorizer(max_df=0.8, min_df=2, stop_words='english')  \n",
    "doc_term_matrix = count_vect.fit_transform(reviews_datasets['text'].values.astype('U'))  \n"
   ]
  },
  {
   "cell_type": "code",
   "execution_count": 17,
   "metadata": {},
   "outputs": [
    {
     "data": {
      "text/plain": [
       "<20000x23052 sparse matrix of type '<class 'numpy.int64'>'\n",
       "\twith 963659 stored elements in Compressed Sparse Row format>"
      ]
     },
     "execution_count": 17,
     "metadata": {},
     "output_type": "execute_result"
    }
   ],
   "source": [
    "doc_term_matrix"
   ]
  },
  {
   "cell_type": "markdown",
   "metadata": {},
   "source": [
    "LDA to create topics along with the probability distribution for each word in our vocabulary for each topic"
   ]
  },
  {
   "cell_type": "code",
   "execution_count": 18,
   "metadata": {},
   "outputs": [
    {
     "data": {
      "text/plain": [
       "LatentDirichletAllocation(batch_size=128, doc_topic_prior=None,\n",
       "             evaluate_every=-1, learning_decay=0.7,\n",
       "             learning_method='batch', learning_offset=10.0,\n",
       "             max_doc_update_iter=100, max_iter=10, mean_change_tol=0.001,\n",
       "             n_components=5, n_jobs=None, n_topics=None, perp_tol=0.1,\n",
       "             random_state=42, topic_word_prior=None,\n",
       "             total_samples=1000000.0, verbose=0)"
      ]
     },
     "execution_count": 18,
     "metadata": {},
     "output_type": "execute_result"
    }
   ],
   "source": [
    "from sklearn.decomposition import LatentDirichletAllocation\n",
    "\n",
    "LDA = LatentDirichletAllocation(n_components=5, random_state=42)  \n",
    "LDA.fit(doc_term_matrix)  \n"
   ]
  },
  {
   "cell_type": "code",
   "execution_count": 19,
   "metadata": {},
   "outputs": [
    {
     "name": "stdout",
     "output_type": "stream",
     "text": [
      "donne\n",
      "duchess\n",
      "hands\n",
      "principal\n",
      "honeydew\n",
      "palpable\n",
      "license\n",
      "gutted\n",
      "aesthetic\n",
      "yess\n"
     ]
    }
   ],
   "source": [
    "#Fetching words randomly to check that the words are present in the vocabulary\n",
    "import random\n",
    "\n",
    "for i in range(10):  \n",
    "    random_id = random.randint(0,len(count_vect.get_feature_names()))\n",
    "    print(count_vect.get_feature_names()[random_id])"
   ]
  },
  {
   "cell_type": "markdown",
   "metadata": {},
   "source": [
    "Find top 20 words with highest probability of 5 topics"
   ]
  },
  {
   "cell_type": "code",
   "execution_count": 20,
   "metadata": {},
   "outputs": [],
   "source": [
    "first_topic = LDA.components_[0]  \n",
    "second_topic = LDA.components_[1]\n",
    "third_topic = LDA.components_[2] \n",
    "fourth_topic = LDA.components_[3]\n",
    "fifth_topic = LDA.components_[4]"
   ]
  },
  {
   "cell_type": "code",
   "execution_count": 21,
   "metadata": {},
   "outputs": [],
   "source": [
    "#Sorting the index according to probability\n",
    "\n",
    "top_topic_words_first = first_topic.argsort()[-20:] \n",
    "top_topic_words_second = second_topic.argsort()[-20:]  \n",
    "top_topic_words_third = third_topic.argsort()[-20:]  \n",
    "top_topic_words_fourth = fourth_topic.argsort()[-20:]  \n",
    "top_topic_words_fifth = fifth_topic.argsort()[-20:]  \n"
   ]
  },
  {
   "cell_type": "code",
   "execution_count": 22,
   "metadata": {},
   "outputs": [
    {
     "data": {
      "text/plain": [
       "array([16315, 16167, 11988, 21531,  5860, 14672, 10960,  6203, 15575,\n",
       "       20067, 10232, 11762,  3221, 17683,  5159,  7261,  3983, 11648,\n",
       "       11472,  7278])"
      ]
     },
     "execution_count": 22,
     "metadata": {},
     "output_type": "execute_result"
    }
   ],
   "source": [
    "top_topic_words_first\n",
    "top_topic_words_second\n",
    "top_topic_words_third\n",
    "top_topic_words_fourth\n",
    "top_topic_words_fifth"
   ]
  },
  {
   "cell_type": "markdown",
   "metadata": {},
   "source": [
    "### TOPIC -1\n",
    "TALKS ABOUT ASPECTS ABOUR SERVICE, WAIT TIME "
   ]
  },
  {
   "cell_type": "code",
   "execution_count": 23,
   "metadata": {},
   "outputs": [
    {
     "name": "stdout",
     "output_type": "stream",
     "text": [
      "went\n",
      "really\n",
      "did\n",
      "server\n",
      "wait\n",
      "didn\n",
      "got\n",
      "minutes\n",
      "like\n",
      "table\n",
      "came\n",
      "restaurant\n",
      "ordered\n",
      "order\n",
      "good\n",
      "just\n",
      "place\n",
      "time\n",
      "service\n",
      "food\n"
     ]
    }
   ],
   "source": [
    "for i in top_topic_words_first:  \n",
    "    print(count_vect.get_feature_names()[i])\n"
   ]
  },
  {
   "cell_type": "markdown",
   "metadata": {},
   "source": [
    "### TOPIC - 2\n",
    "TALKS MOSTLY ABOUT ASPECTS ABOUT FOOD - CHEESE,CHICKEN,FOOD,MENU,DELICIOUS"
   ]
  },
  {
   "cell_type": "code",
   "execution_count": 24,
   "metadata": {},
   "outputs": [
    {
     "name": "stdout",
     "output_type": "stream",
     "text": [
      "pretty\n",
      "definitely\n",
      "time\n",
      "cheese\n",
      "nice\n",
      "ve\n",
      "little\n",
      "menu\n",
      "delicious\n",
      "love\n",
      "try\n",
      "service\n",
      "chicken\n",
      "just\n",
      "really\n",
      "like\n",
      "great\n",
      "place\n",
      "food\n",
      "good\n"
     ]
    }
   ],
   "source": [
    "for i in top_topic_words_second:  \n",
    "    print(count_vect.get_feature_names()[i])\n"
   ]
  },
  {
   "cell_type": "markdown",
   "metadata": {},
   "source": [
    "### TOPIC - 3 \n",
    "TALKS MOSTLY ABOUT SERVICE, AMBIENCE, AGAIN GOING BACK TO THE RESTAURANT"
   ]
  },
  {
   "cell_type": "code",
   "execution_count": 25,
   "metadata": {},
   "outputs": [
    {
     "name": "stdout",
     "output_type": "stream",
     "text": [
      "place\n",
      "staff\n",
      "experience\n",
      "went\n",
      "day\n",
      "job\n",
      "new\n",
      "got\n",
      "just\n",
      "called\n",
      "recommend\n",
      "said\n",
      "customer\n",
      "told\n",
      "work\n",
      "car\n",
      "did\n",
      "great\n",
      "time\n",
      "service\n"
     ]
    }
   ],
   "source": [
    "for i in top_topic_words_third:  \n",
    "    print(count_vect.get_feature_names()[i])\n"
   ]
  },
  {
   "cell_type": "markdown",
   "metadata": {},
   "source": [
    "### TOPIC - 4 \n",
    "TALKS ABOUT RESTAURANT AND EXPERIENCE(NO FOOD, NOO SERVICE)"
   ]
  },
  {
   "cell_type": "code",
   "execution_count": 26,
   "metadata": {
    "scrolled": true
   },
   "outputs": [
    {
     "name": "stdout",
     "output_type": "stream",
     "text": [
      "day\n",
      "area\n",
      "pretty\n",
      "know\n",
      "staff\n",
      "love\n",
      "little\n",
      "good\n",
      "people\n",
      "nice\n",
      "room\n",
      "ve\n",
      "store\n",
      "don\n",
      "really\n",
      "great\n",
      "time\n",
      "just\n",
      "place\n",
      "like\n"
     ]
    }
   ],
   "source": [
    "for i in top_topic_words_fourth:  \n",
    "    print(count_vect.get_feature_names()[i])\n"
   ]
  },
  {
   "cell_type": "markdown",
   "metadata": {},
   "source": [
    "### TOPIC - 5\n",
    "TALKS ABOUT DESERTS (CHOCOLATE CREAM,SWEET,ICE,CAKE)  "
   ]
  },
  {
   "cell_type": "code",
   "execution_count": 27,
   "metadata": {
    "scrolled": true
   },
   "outputs": [
    {
     "name": "stdout",
     "output_type": "stream",
     "text": [
      "ramen\n",
      "que\n",
      "lobster\n",
      "une\n",
      "des\n",
      "pas\n",
      "je\n",
      "dish\n",
      "pour\n",
      "sweet\n",
      "ice\n",
      "les\n",
      "cake\n",
      "sauce\n",
      "cream\n",
      "est\n",
      "chocolate\n",
      "le\n",
      "la\n",
      "et\n"
     ]
    }
   ],
   "source": [
    "for i in top_topic_words_fifth:  \n",
    "    print(count_vect.get_feature_names()[i])\n"
   ]
  },
  {
   "cell_type": "code",
   "execution_count": 28,
   "metadata": {},
   "outputs": [
    {
     "name": "stdout",
     "output_type": "stream",
     "text": [
      "Top 10 words for topic #0:\n",
      "['came', 'restaurant', 'ordered', 'order', 'good', 'just', 'place', 'time', 'service', 'food']\n",
      "\n",
      "\n",
      "Top 10 words for topic #1:\n",
      "['try', 'service', 'chicken', 'just', 'really', 'like', 'great', 'place', 'food', 'good']\n",
      "\n",
      "\n",
      "Top 10 words for topic #2:\n",
      "['recommend', 'said', 'customer', 'told', 'work', 'car', 'did', 'great', 'time', 'service']\n",
      "\n",
      "\n",
      "Top 10 words for topic #3:\n",
      "['room', 've', 'store', 'don', 'really', 'great', 'time', 'just', 'place', 'like']\n",
      "\n",
      "\n",
      "Top 10 words for topic #4:\n",
      "['ice', 'les', 'cake', 'sauce', 'cream', 'est', 'chocolate', 'le', 'la', 'et']\n",
      "\n",
      "\n"
     ]
    }
   ],
   "source": [
    "#Words with highest probabilties for all five topics\n",
    "for i,topic in enumerate(LDA.components_):  \n",
    "    print(f'Top 10 words for topic #{i}:')\n",
    "    print([count_vect.get_feature_names()[i] for i in topic.argsort()[-10:]])\n",
    "    print('\\n')\n"
   ]
  },
  {
   "cell_type": "code",
   "execution_count": 64,
   "metadata": {},
   "outputs": [
    {
     "data": {
      "text/html": [
       "<div>\n",
       "<style scoped>\n",
       "    .dataframe tbody tr th:only-of-type {\n",
       "        vertical-align: middle;\n",
       "    }\n",
       "\n",
       "    .dataframe tbody tr th {\n",
       "        vertical-align: top;\n",
       "    }\n",
       "\n",
       "    .dataframe thead th {\n",
       "        text-align: right;\n",
       "    }\n",
       "</style>\n",
       "<table border=\"1\" class=\"dataframe\">\n",
       "  <thead>\n",
       "    <tr style=\"text-align: right;\">\n",
       "      <th></th>\n",
       "      <th>review_id</th>\n",
       "      <th>business_id</th>\n",
       "      <th>stars</th>\n",
       "      <th>text</th>\n",
       "      <th>Topic</th>\n",
       "    </tr>\n",
       "  </thead>\n",
       "  <tbody>\n",
       "    <tr>\n",
       "      <th>0</th>\n",
       "      <td>vkVSCC7xljjrAI4UGfnKEQ</td>\n",
       "      <td>AEx2SYEUJmTxVVB18LlCwA</td>\n",
       "      <td>5</td>\n",
       "      <td>Super simple place but amazing nonetheless. It...</td>\n",
       "      <td>1</td>\n",
       "    </tr>\n",
       "    <tr>\n",
       "      <th>1</th>\n",
       "      <td>n6QzIUObkYshz4dz2QRJTw</td>\n",
       "      <td>VR6GpWIda3SfvPC-lg9H3w</td>\n",
       "      <td>5</td>\n",
       "      <td>Small unassuming place that changes their menu...</td>\n",
       "      <td>1</td>\n",
       "    </tr>\n",
       "    <tr>\n",
       "      <th>2</th>\n",
       "      <td>MV3CcKScW05u5LVfF6ok0g</td>\n",
       "      <td>CKC0-MOWMqoeWf6s-szl8g</td>\n",
       "      <td>5</td>\n",
       "      <td>Lester's is located in a beautiful neighborhoo...</td>\n",
       "      <td>1</td>\n",
       "    </tr>\n",
       "    <tr>\n",
       "      <th>3</th>\n",
       "      <td>IXvOzsEMYtiJI0CARmj77Q</td>\n",
       "      <td>ACFtxLv8pGrrxMm6EgjreA</td>\n",
       "      <td>4</td>\n",
       "      <td>Love coming here. Yes the place always needs t...</td>\n",
       "      <td>1</td>\n",
       "    </tr>\n",
       "    <tr>\n",
       "      <th>4</th>\n",
       "      <td>L_9BTb55X0GDtThi6GlZ6w</td>\n",
       "      <td>s2I_Ni76bjJNK9yG60iD-Q</td>\n",
       "      <td>4</td>\n",
       "      <td>Had their chocolate almond croissant and it wa...</td>\n",
       "      <td>4</td>\n",
       "    </tr>\n",
       "    <tr>\n",
       "      <th>5</th>\n",
       "      <td>HRPm3vEZ_F-33TYVT7Pebw</td>\n",
       "      <td>8QWPlVQ6D-OExqXoaD2Z1g</td>\n",
       "      <td>5</td>\n",
       "      <td>Cycle Pub Las Vegas was a blast! Got a groupon...</td>\n",
       "      <td>3</td>\n",
       "    </tr>\n",
       "    <tr>\n",
       "      <th>6</th>\n",
       "      <td>ymAUG8DZfQcFTBSOiaNN4w</td>\n",
       "      <td>9_CGhHMz8698M9-PkVf0CQ</td>\n",
       "      <td>4</td>\n",
       "      <td>Who would have guess that you would be able to...</td>\n",
       "      <td>1</td>\n",
       "    </tr>\n",
       "    <tr>\n",
       "      <th>7</th>\n",
       "      <td>8UIishPUD92hXtScSga_gw</td>\n",
       "      <td>gkCorLgPyQLsptTHalL61g</td>\n",
       "      <td>4</td>\n",
       "      <td>Always drove past this coffee house and wonder...</td>\n",
       "      <td>1</td>\n",
       "    </tr>\n",
       "    <tr>\n",
       "      <th>8</th>\n",
       "      <td>w41ZS9shepfO3uEyhXEWuQ</td>\n",
       "      <td>5r6-G9C4YLbC7Ziz57l3rQ</td>\n",
       "      <td>3</td>\n",
       "      <td>Not bad!! Love that there is a gluten-free, ve...</td>\n",
       "      <td>1</td>\n",
       "    </tr>\n",
       "    <tr>\n",
       "      <th>9</th>\n",
       "      <td>WF_QTN3p-thD74hqpp2j-Q</td>\n",
       "      <td>fDF_o2JPU8BR1Gya--jRIA</td>\n",
       "      <td>5</td>\n",
       "      <td>Love this place!\\n\\nPeggy is great with dogs a...</td>\n",
       "      <td>3</td>\n",
       "    </tr>\n",
       "  </tbody>\n",
       "</table>\n",
       "</div>"
      ],
      "text/plain": [
       "                review_id             business_id  stars  \\\n",
       "0  vkVSCC7xljjrAI4UGfnKEQ  AEx2SYEUJmTxVVB18LlCwA      5   \n",
       "1  n6QzIUObkYshz4dz2QRJTw  VR6GpWIda3SfvPC-lg9H3w      5   \n",
       "2  MV3CcKScW05u5LVfF6ok0g  CKC0-MOWMqoeWf6s-szl8g      5   \n",
       "3  IXvOzsEMYtiJI0CARmj77Q  ACFtxLv8pGrrxMm6EgjreA      4   \n",
       "4  L_9BTb55X0GDtThi6GlZ6w  s2I_Ni76bjJNK9yG60iD-Q      4   \n",
       "5  HRPm3vEZ_F-33TYVT7Pebw  8QWPlVQ6D-OExqXoaD2Z1g      5   \n",
       "6  ymAUG8DZfQcFTBSOiaNN4w  9_CGhHMz8698M9-PkVf0CQ      4   \n",
       "7  8UIishPUD92hXtScSga_gw  gkCorLgPyQLsptTHalL61g      4   \n",
       "8  w41ZS9shepfO3uEyhXEWuQ  5r6-G9C4YLbC7Ziz57l3rQ      3   \n",
       "9  WF_QTN3p-thD74hqpp2j-Q  fDF_o2JPU8BR1Gya--jRIA      5   \n",
       "\n",
       "                                                text  Topic  \n",
       "0  Super simple place but amazing nonetheless. It...      1  \n",
       "1  Small unassuming place that changes their menu...      1  \n",
       "2  Lester's is located in a beautiful neighborhoo...      1  \n",
       "3  Love coming here. Yes the place always needs t...      1  \n",
       "4  Had their chocolate almond croissant and it wa...      4  \n",
       "5  Cycle Pub Las Vegas was a blast! Got a groupon...      3  \n",
       "6  Who would have guess that you would be able to...      1  \n",
       "7  Always drove past this coffee house and wonder...      1  \n",
       "8  Not bad!! Love that there is a gluten-free, ve...      1  \n",
       "9  Love this place!\\n\\nPeggy is great with dogs a...      3  "
      ]
     },
     "execution_count": 64,
     "metadata": {},
     "output_type": "execute_result"
    }
   ],
   "source": [
    "#assign probability of all the topics to each document and adds a new column to show about which topic the review belongs\n",
    "topic_values = LDA.transform(doc_term_matrix)  \n",
    "reviews_datasets['Topic'] = topic_values.argmax(axis=1)  \n",
    "reviews_datasets.head(10)\n"
   ]
  },
  {
   "cell_type": "code",
   "execution_count": 49,
   "metadata": {},
   "outputs": [
    {
     "data": {
      "text/plain": [
       "\"Lester's is located in a beautiful neighborhood and has been there since 1951. They are known for smoked meat which most deli's have but their brisket sandwich is what I come to montreal for. They've got about 12 seats outside to go along with the inside. \\n\\nThe smoked meat is up there in quality and taste with Schwartz's and you'll find less tourists at Lester's as well.\""
      ]
     },
     "execution_count": 49,
     "metadata": {},
     "output_type": "execute_result"
    }
   ],
   "source": [
    "#Topic - 5 - chocolate,deserts\n",
    "reviews_datasets['text'][4]"
   ]
  },
  {
   "cell_type": "code",
   "execution_count": 67,
   "metadata": {},
   "outputs": [
    {
     "data": {
      "text/plain": [
       "'Love this place!\\n\\nPeggy is great with dogs and does a great job! She is very patience with him and will make any adjustments you need before you leave the store. My little guy has no problems coming here.\\n\\nThey also have very good bully sticks (the non-smelly ones) that my little guy and his friends love!'"
      ]
     },
     "execution_count": 67,
     "metadata": {},
     "output_type": "execute_result"
    }
   ],
   "source": [
    "#Topic - 4 - experience at the restaurant\n",
    "reviews_datasets['text'][9]"
   ]
  },
  {
   "cell_type": "code",
   "execution_count": 66,
   "metadata": {},
   "outputs": [
    {
     "data": {
      "text/plain": [
       "\"Not bad!! Love that there is a gluten-free, vegan version of the cheese curds and gravy!!\\n\\nHaven't done the poutine taste test yet with smoke's but Im excited to see which is better. However poutini's might win as they are vegan and gluten-free\""
      ]
     },
     "execution_count": 66,
     "metadata": {},
     "output_type": "execute_result"
    }
   ],
   "source": [
    "#Topic - 2 - food\n",
    "reviews_datasets['text'][8]"
   ]
  },
  {
   "cell_type": "markdown",
   "metadata": {},
   "source": [
    "EACH TOPIC NUMBER IS ASSISGNED TO RESPECTIVE REVIEW BASED ON THE ASPECT THAT THE IS MENTIONED MOST IN THE REVIEW"
   ]
  }
 ],
 "metadata": {
  "kernelspec": {
   "display_name": "Python 3",
   "language": "python",
   "name": "python3"
  },
  "language_info": {
   "codemirror_mode": {
    "name": "ipython",
    "version": 3
   },
   "file_extension": ".py",
   "mimetype": "text/x-python",
   "name": "python",
   "nbconvert_exporter": "python",
   "pygments_lexer": "ipython3",
   "version": "3.7.3"
  }
 },
 "nbformat": 4,
 "nbformat_minor": 2
}
